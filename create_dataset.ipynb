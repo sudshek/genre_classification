{
 "cells": [
  {
   "cell_type": "code",
   "execution_count": 192,
   "metadata": {},
   "outputs": [],
   "source": [
    "import pandas as pd\n",
    "import numpy as np\n",
    "import matplotlib.pyplot as plt\n",
    "import librosa as lb\n",
    "import os"
   ]
  },
  {
   "cell_type": "code",
   "execution_count": 193,
   "metadata": {},
   "outputs": [],
   "source": [
    "features = ['meanZCR', 'stdZCR', 'meanSpecCentroid', 'stdSpecCentroid', 'meanSpecContrast', 'stdSpecContrast',\n",
    "                     'meanSpecBandwidth', 'stdSpecBandwidth', 'meanSpecRollof', 'stdSpecRollof',\n",
    "                     'meanMFCC_1', 'stdMFCC_1', 'meanMFCC_2', 'stdMFCC_2', 'meanMFCC_3', 'stdMFCC_3',\n",
    "                     'meanMFCC_4', 'stdMFCC_4', 'meanMFCC_5', 'stdMFCC_5', 'meanMFCC_6', 'stdMFCC_6',\n",
    "                     'meanMFCC_7', 'stdMFCC_7', 'meanMFCC_8', 'stdMFCC_8', 'meanMFCC_9', 'stdMFCC_9',\n",
    "                     'meanMFCC_10', 'stdMFCC_10', 'meanMFCC_11', 'stdMFCC_11', 'meanMFCC_12', 'stdMFCC_12',\n",
    "'meanMFCC_13', 'stdMFCC_13','label']"
   ]
  },
  {
   "cell_type": "code",
   "execution_count": 194,
   "metadata": {},
   "outputs": [
    {
     "data": {
      "text/plain": [
       "37"
      ]
     },
     "execution_count": 194,
     "metadata": {},
     "output_type": "execute_result"
    }
   ],
   "source": [
    "len(features)"
   ]
  },
  {
   "cell_type": "code",
   "execution_count": 195,
   "metadata": {},
   "outputs": [],
   "source": [
    "df = pd.DataFrame(columns=features)\n"
   ]
  },
  {
   "cell_type": "code",
   "execution_count": 196,
   "metadata": {},
   "outputs": [],
   "source": [
    "file_path = 'genres_wav/'"
   ]
  },
  {
   "cell_type": "code",
   "execution_count": 197,
   "metadata": {},
   "outputs": [
    {
     "name": "stdout",
     "output_type": "stream",
     "text": [
      "genres_wav/blues/\n",
      "genres_wav/classical/\n",
      "genres_wav/country/\n",
      "genres_wav/disco/\n",
      "genres_wav/hiphop/\n",
      "genres_wav/jazz/\n",
      "genres_wav/metal/\n",
      "genres_wav/pop/\n",
      "genres_wav/reggae/\n",
      "genres_wav/rock/\n"
     ]
    }
   ],
   "source": [
    "for files in os.listdir(file_path):\n",
    "    file_new_path = file_path+files+'/'\n",
    "    print(file_new_path)\n",
    "    for songs in os.listdir(file_new_path):\n",
    "        y,sr = lb.load(file_new_path+songs)\n",
    "\n",
    "\n",
    "        mfcc = lb.feature.mfcc(y=y,sr=sr,n_mfcc=13)\n",
    "\n",
    "        SpecCentroid = lb.feature.spectral_centroid(y=y,sr=sr)\n",
    "\n",
    "        SpecContrast = lb.feature.spectral_contrast(y=y,sr=sr)\n",
    "\n",
    "        SpecBandwidth = lb.feature.spectral_bandwidth(y=y,sr=sr)\n",
    "\n",
    "        SpecRollOff =  lb.feature.spectral_rolloff(y=y,sr=sr)\n",
    "\n",
    "        zcr = lb.feature.zero_crossing_rate(y=y)\n",
    "\n",
    "        array = [np.mean(zcr),np.std(zcr),np.mean(SpecCentroid),np.std(SpecCentroid),np.mean(SpecContrast),np.std(SpecContrast),np.mean(SpecBandwidth),np.std(SpecBandwidth),np.mean(SpecRollOff),np.std(SpecRollOff),np.mean(mfcc[0]),np.std(mfcc[0]),np.mean(mfcc[1]),np.std(mfcc[1]),np.mean(mfcc[2]),np.std(mfcc[2]),np.mean(mfcc[3]),np.std(mfcc[3]),np.mean(mfcc[4]),np.std(mfcc[4]),np.mean(mfcc[5]),np.std(mfcc[5]),np.mean(mfcc[6]),np.std(mfcc[6]),np.mean(mfcc[7]),np.std(mfcc[7]),np.mean(mfcc[8]),np.std(mfcc[8]),np.mean(mfcc[9]),np.std(mfcc[9]),np.mean(mfcc[10]),np.std(mfcc[10]),np.mean(mfcc[11]),np.std(mfcc[11]),np.mean(mfcc[12]),np.std(mfcc[12])]\n",
    "        array = np.array(array)\n",
    "\n",
    "        array = array.reshape(1,36)\n",
    "        \n",
    "\n",
    "\n",
    "        temp = pd.DataFrame(array,columns = features[:-1])\n",
    "        \n",
    "        temp['label'] = files\n",
    "        df = df.append(temp)\n",
    "        \n",
    "#         print(file_new_path+songs)\n",
    "        "
   ]
  },
  {
   "cell_type": "code",
   "execution_count": 189,
   "metadata": {},
   "outputs": [],
   "source": [
    "# y,sr = lb.load('genres_wav/blues/blues.00000.wav')\n",
    "\n",
    "\n",
    "# mfcc = lb.feature.mfcc(y=y,sr=sr,n_mfcc=13)\n",
    "\n",
    "# SpecCentroid = lb.feature.spectral_centroid(y=y,sr=sr)\n",
    "\n",
    "# SpecContrast = lb.feature.spectral_contrast(y=y,sr=sr)\n",
    "\n",
    "# SpecBandwidth = lb.feature.spectral_bandwidth(y=y,sr=sr)\n",
    "\n",
    "# SpecRollOff =  lb.feature.spectral_rolloff(y=y,sr=sr)\n",
    "\n",
    "# zcr = lb.feature.zero_crossing_rate(y=y)\n",
    "\n",
    "# array = [np.mean(zcr),np.std(zcr),np.mean(SpecCentroid),np.std(SpecCentroid),np.mean(SpecContrast),np.std(SpecContrast),np.mean(SpecBandwidth),np.std(SpecBandwidth),np.mean(SpecRollOff),np.std(SpecRollOff),np.mean(mfcc[0]),np.std(mfcc[0]),np.mean(mfcc[1]),np.std(mfcc[1]),np.mean(mfcc[2]),np.std(mfcc[2]),np.mean(mfcc[3]),np.std(mfcc[3]),np.mean(mfcc[4]),np.std(mfcc[4]),np.mean(mfcc[5]),np.std(mfcc[5]),np.mean(mfcc[6]),np.std(mfcc[6]),np.mean(mfcc[7]),np.std(mfcc[7]),np.mean(mfcc[8]),np.std(mfcc[8]),np.mean(mfcc[9]),np.std(mfcc[9]),np.mean(mfcc[10]),np.std(mfcc[10]),np.mean(mfcc[11]),np.std(mfcc[11]),np.mean(mfcc[12]),np.std(mfcc[12])]\n",
    "# array = np.array(array)\n",
    "\n",
    "# array = array.reshape(1,36)\n",
    "\n",
    "\n",
    "\n",
    "# temp = pd.DataFrame(array,columns = features[:-1])\n",
    "# temp['label'] = 'blues'\n",
    "# df = df.append(temp)"
   ]
  },
  {
   "cell_type": "code",
   "execution_count": 201,
   "metadata": {},
   "outputs": [],
   "source": [
    "df.to_csv('data.csv')"
   ]
  },
  {
   "cell_type": "code",
   "execution_count": 200,
   "metadata": {},
   "outputs": [
    {
     "data": {
      "text/plain": [
       "(1000, 37)"
      ]
     },
     "execution_count": 200,
     "metadata": {},
     "output_type": "execute_result"
    }
   ],
   "source": [
    "df.shape"
   ]
  },
  {
   "cell_type": "code",
   "execution_count": null,
   "metadata": {},
   "outputs": [],
   "source": []
  }
 ],
 "metadata": {
  "kernelspec": {
   "display_name": "Python 3",
   "language": "python",
   "name": "python3"
  },
  "language_info": {
   "codemirror_mode": {
    "name": "ipython",
    "version": 3
   },
   "file_extension": ".py",
   "mimetype": "text/x-python",
   "name": "python",
   "nbconvert_exporter": "python",
   "pygments_lexer": "ipython3",
   "version": "3.6.5"
  }
 },
 "nbformat": 4,
 "nbformat_minor": 2
}
